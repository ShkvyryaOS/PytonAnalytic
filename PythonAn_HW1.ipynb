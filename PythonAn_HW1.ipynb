{
 "cells": [
  {
   "cell_type": "markdown",
   "id": "b3786402",
   "metadata": {},
   "source": [
    "## Задача 2:\n",
    "На складе лежат разные фрукты в разном количестве.\n",
    "Нужно написать функцию, которая на вход принимает любое количество названий фруктов и их количество, а возвращает общее количество фруктов на складе"
   ]
  },
  {
   "cell_type": "code",
   "execution_count": 1,
   "id": "ad3e2614",
   "metadata": {},
   "outputs": [],
   "source": [
    "def total_fruits(**fruits):\n",
    "    sum_weight=0\n",
    "    for weight in fruits.values():\n",
    "        sum_weight+= weight\n",
    "    return {'sum_weight': sum_weight}    "
   ]
  },
  {
   "cell_type": "code",
   "execution_count": 2,
   "id": "e2cc3e8a",
   "metadata": {},
   "outputs": [
    {
     "data": {
      "text/plain": [
       "{'sum_weight': 12}"
      ]
     },
     "execution_count": 2,
     "metadata": {},
     "output_type": "execute_result"
    }
   ],
   "source": [
    "total_fruits(banana=3, pineaple=4, orange=5)"
   ]
  },
  {
   "cell_type": "markdown",
   "id": "2bcbd546",
   "metadata": {},
   "source": [
    "## Задача 3:\n",
    "Дан список с затратами на рекламу. Но в данных есть ошибки, некоторые затраты имеют отрицательную величину. Удалите такие значения из списка и посчитайте суммарные затраты\n",
    "[100, 125, -90, 345, 655, -1, 0, 200]\n",
    "Используйте list comprehensions"
   ]
  },
  {
   "cell_type": "code",
   "execution_count": 3,
   "id": "e775b11d",
   "metadata": {},
   "outputs": [
    {
     "name": "stdout",
     "output_type": "stream",
     "text": [
      "[100, 125, 345, 655, 200]\n",
      "total_sum: 1425\n"
     ]
    }
   ],
   "source": [
    "cost_list= [100, 125, -90, 345, 655, -1, 0, 200]\n",
    "new_list=[cost for cost in cost_list if cost > 0 ]\n",
    "total_sum = 0\n",
    "for i in range(len(new_list)):\n",
    "    total_sum+= new_list[i]\n",
    "print(new_list)\n",
    "print('total_sum:', total_sum)"
   ]
  },
  {
   "cell_type": "markdown",
   "id": "c0c2bf7e",
   "metadata": {},
   "source": [
    "## Задача 4:\n",
    "Даны два списка.\n",
    "Дата покупки, Суммы покупок по датам\n",
    "\n",
    "### 4.1 Найдите, какая выручка у компании в ноябре\n",
    "Используйте list comprehensions\n"
   ]
  },
  {
   "cell_type": "code",
   "execution_count": 4,
   "id": "a2108631",
   "metadata": {},
   "outputs": [],
   "source": [
    "date = ['2021-09-14', '2021-12-15', '2021-09-08', '2021-12-05','2021-10-09', '2021-09-30', '2021-12-22', '2021-11-29', \\\n",
    "        '2021-12-24', '2021-11-26', '2021-10-27', '2021-12-18', '2021-11-09', '2021-11-23', '2021-09-27', '2021-10-02', \\\n",
    "        '2021-12-27', '2021-09-20', '2021-12-13', '2021-11-01', '2021-11-09', '2021-12-06', '2021-12-08', '2021-10-09',\\\n",
    "        '2021-10-31', '2021-09-30', '2021-11-09', '2021-12-13', '2021-10-26', '2021-12-09']"
   ]
  },
  {
   "cell_type": "code",
   "execution_count": 5,
   "id": "ebd8c328",
   "metadata": {},
   "outputs": [],
   "source": [
    "check = [1270, 8413, 9028, 3703, 5739, 4095, 295, 4944, 5723, 3701, 4471, 651, 7037, 4274, 6275, 4988, 6930, 2971, 6592,\\\n",
    "         2004, 2822, 519, 3406, 2732, 5015, 2008, 316, 6333, 5700, 2887]"
   ]
  },
  {
   "cell_type": "code",
   "execution_count": 6,
   "id": "2343de68",
   "metadata": {},
   "outputs": [
    {
     "name": "stdout",
     "output_type": "stream",
     "text": [
      "25098\n"
     ]
    }
   ],
   "source": [
    "november_check = [check[i] for i in range(len(check)) if date[i][5:7] == '11' ]\n",
    "result = sum(november_check)   \n",
    "print(result)\n"
   ]
  },
  {
   "cell_type": "markdown",
   "id": "d682e4bc",
   "metadata": {},
   "source": [
    "### 4.2 Найдите выручку компании в зависимости от месяца\n",
    "Для этого напишите функцию, которая на вход принимает список с датами и список с выручкой, а на выходе словарь, где ключи - это месяцы, а значения - это выручка.\n",
    "Используйте аннотирование типов."
   ]
  },
  {
   "cell_type": "code",
   "execution_count": 7,
   "id": "75bd9fb7",
   "metadata": {},
   "outputs": [],
   "source": [
    "date = ['2021-09-14', '2021-12-15', '2021-09-08', '2021-12-05','2021-10-09', '2021-09-30', '2021-12-22', '2021-11-29', \\\n",
    "        '2021-12-24', '2021-11-26', '2021-10-27', '2021-12-18', '2021-11-09', '2021-11-23', '2021-09-27', '2021-10-02', \\\n",
    "        '2021-12-27', '2021-09-20', '2021-12-13', '2021-11-01', '2021-11-09', '2021-12-06', '2021-12-08', '2021-10-09',\\\n",
    "        '2021-10-31', '2021-09-30', '2021-11-09', '2021-12-13', '2021-10-26', '2021-12-09']"
   ]
  },
  {
   "cell_type": "code",
   "execution_count": 8,
   "id": "5e460b11",
   "metadata": {},
   "outputs": [],
   "source": [
    "check = [1270, 8413, 9028, 3703, 5739, 4095, 295, 4944, 5723, 3701, 4471, 651, 7037, 4274, 6275, 4988, 6930, 2971, 6592,\\\n",
    "         2004, 2822, 519, 3406, 2732, 5015, 2008, 316, 6333, 5700, 2887]"
   ]
  },
  {
   "cell_type": "code",
   "execution_count": 9,
   "id": "f8232e08",
   "metadata": {},
   "outputs": [
    {
     "name": "stdout",
     "output_type": "stream",
     "text": [
      "{'09': 25647, '10': 28645, '11': 25098, '12': 45452}\n"
     ]
    }
   ],
   "source": [
    "\n",
    "def financial_report(date:list, check: list) ->dict:\n",
    "    total_dict=dict()\n",
    "    new_date=[date[i][5:7] for i in range(len(check))]\n",
    "    month = list(set(new_date))\n",
    "    for j in range(len(month)):\n",
    "        check_list=[]\n",
    "        for i in range(len(check)):\n",
    "            if month[j] == date[i][5:7]:\n",
    "                check_list.append(check[i])\n",
    "        result = sum(check_list)\n",
    "        total_dict[month[j]] = result\n",
    "   \n",
    "     \n",
    "    return total_dict\n",
    "          \n",
    "print(financial_report(date, check))"
   ]
  }
 ],
 "metadata": {
  "kernelspec": {
   "display_name": "Python 3 (ipykernel)",
   "language": "python",
   "name": "python3"
  },
  "language_info": {
   "codemirror_mode": {
    "name": "ipython",
    "version": 3
   },
   "file_extension": ".py",
   "mimetype": "text/x-python",
   "name": "python",
   "nbconvert_exporter": "python",
   "pygments_lexer": "ipython3",
   "version": "3.9.13"
  }
 },
 "nbformat": 4,
 "nbformat_minor": 5
}
